{
 "cells": [
  {
   "cell_type": "code",
   "execution_count": null,
   "metadata": {},
   "outputs": [],
   "source": [
    "import torch\n",
    "import torch.nn as nn"
   ]
  },
  {
   "cell_type": "code",
   "execution_count": null,
   "metadata": {},
   "outputs": [
    {
     "name": "stdout",
     "output_type": "stream",
     "text": [
      "输入张量 X:\n",
      "tensor([[[1., 0., 0., 0.],\n",
      "         [1., 1., 0., 0.],\n",
      "         [1., 1., 1., 0.]],\n",
      "\n",
      "        [[1., 0., 0., 0.],\n",
      "         [1., 1., 0., 0.],\n",
      "         [1., 1., 1., 0.]]])\n",
      "归一化后的张量: tensor([[[ 1.7320, -0.5773, -0.5773, -0.5773],\n",
      "         [ 1.0000,  1.0000, -1.0000, -1.0000],\n",
      "         [ 0.5773,  0.5773,  0.5773, -1.7320]],\n",
      "\n",
      "        [[ 1.7320, -0.5773, -0.5773, -0.5773],\n",
      "         [ 1.0000,  1.0000, -1.0000, -1.0000],\n",
      "         [ 0.5773,  0.5773,  0.5773, -1.7320]]], grad_fn=<AddBackward0>)\n"
     ]
    }
   ],
   "source": [
    "class LayerNorm(nn.Module):\n",
    "    def __init__(self, hidden_size):\n",
    "        super().__init__()\n",
    "        self.hidden_size = hidden_size\n",
    "        self.gamma = nn.Parameter(torch.ones(hidden_size), requires_grad=True)\n",
    "        self.beta = nn.Parameter(torch.zeros(hidden_size), requires_grad=True)\n",
    "\n",
    "\n",
    "    def forward(self, X):\n",
    "        mu = X.mean(dim=-1, keepdim=True)\n",
    "        theta = X.var(dim=-1, keepdim=True, unbiased=False) #有偏估计增加数值稳定性\n",
    "\n",
    "        return (X - mu) / torch.sqrt(theta + 1e-5) * self.gamma + self.beta\n",
    "\n",
    "\n",
    "# 测试\n",
    "X = torch.tril(torch.ones(2, 3, 4))\n",
    "print(\"输入张量 X:\")\n",
    "print(X)\n",
    "\n",
    "X = torch.tril(torch.ones(2,3,4))\n",
    "layer_norm = LayerNorm(X.shape[-1])\n",
    "print(f'归一化后的张量: {layer_norm(X)}')\n"
   ]
  },
  {
   "cell_type": "code",
   "execution_count": 56,
   "metadata": {},
   "outputs": [
    {
     "name": "stdout",
     "output_type": "stream",
     "text": [
      "输入 X 的形状: torch.Size([2, 3, 4])\n",
      "归一化后的 X 的形状: torch.Size([2, 3, 4])\n"
     ]
    }
   ],
   "source": [
    "#LayerNorm的改进 RMSNorm\n",
    "class RMSNorm(nn.Module):\n",
    "    def __init__(self, hidden_size:int):\n",
    "        super().__init__()\n",
    "        self.hidden_size = hidden_size\n",
    "        self.gamma = nn.Parameter(torch.ones(hidden_size), requires_grad=True)\n",
    "\n",
    "    def forward(self, X):\n",
    "        \n",
    "        rms = torch.sqrt(\n",
    "            torch.sum(X ** 2, dim=-1, keepdim=True)  /  X.shape[-1]  + 1e-6\n",
    "            ) \n",
    "        normalized_X = X / rms * self.gamma\n",
    "        return normalized_X\n",
    "\n",
    "X = torch.randn(2, 3, 4)  # 示例输入，形状为 (batch_size, sequence_length, hidden_size)\n",
    "rms_norm = RMSNorm(hidden_size=X.shape[-1])\n",
    "normalized_X = rms_norm(X)\n",
    "print(\"输入 X 的形状:\", X.shape)\n",
    "print(\"归一化后的 X 的形状:\", normalized_X.shape)"
   ]
  },
  {
   "cell_type": "code",
   "execution_count": null,
   "metadata": {},
   "outputs": [],
   "source": []
  }
 ],
 "metadata": {
  "kernelspec": {
   "display_name": "base",
   "language": "python",
   "name": "python3"
  },
  "language_info": {
   "codemirror_mode": {
    "name": "ipython",
    "version": 3
   },
   "file_extension": ".py",
   "mimetype": "text/x-python",
   "name": "python",
   "nbconvert_exporter": "python",
   "pygments_lexer": "ipython3",
   "version": "3.12.4"
  }
 },
 "nbformat": 4,
 "nbformat_minor": 2
}
