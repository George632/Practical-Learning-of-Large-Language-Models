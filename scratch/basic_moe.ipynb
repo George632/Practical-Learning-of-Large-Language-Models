{
 "cells": [
  {
   "cell_type": "code",
   "execution_count": 18,
   "metadata": {},
   "outputs": [],
   "source": [
    "import torch\n",
    "import torch.nn as nn\n",
    "import torch.nn.functional as F"
   ]
  },
  {
   "cell_type": "code",
   "execution_count": null,
   "metadata": {},
   "outputs": [],
   "source": [
    "\n",
    "#basic_expert\n",
    "class BasicExpert(nn.Module):\n",
    "    def __init__(self, hidden_dim, dropout):\n",
    "        super().__init__()\n",
    "        \n",
    "        mid_dim = hidden_dim * 8 // 3\n",
    "        self.up = nn.Linear(hidden_dim, mid_dim)\n",
    "        self.down = nn.Linear(mid_dim, hidden_dim)\n",
    "        self.gated = nn.Linear(hidden_dim, mid_dim)\n",
    "        \n",
    "        self.dropout = nn.Dropout(dropout)\n",
    "        \n",
    "    def forward(self, x):\n",
    "        \n",
    "        out = self.dropout(\n",
    "            self.down(\n",
    "               F.silu(self.up(x)) * self.gated(x)\n",
    "            )\n",
    "        )\n",
    "        return out"
   ]
  },
  {
   "cell_type": "code",
   "execution_count": null,
   "metadata": {},
   "outputs": [],
   "source": [
    "#basic_moe\n",
    "class BasicMoE(nn.Module):\n",
    "    def __init__(self, num_experts, hidden_dim, dropout):\n",
    "        super().__init__()\n",
    "        self.experts = nn.ModuleList(\n",
    "            [BasicExpert(hidden_dim, dropout)  for _ in range(num_experts)]\n",
    "        )\n",
    "        self.gate = nn.Linear(hidden_dim, num_experts)\n",
    "        \n",
    "    def forward(self, x):\n",
    "        expert_weights = self.gate(x)\n",
    "        expert_out_list = [\n",
    "            expert(x).unsqueeze(1) for expert in self.experts\n",
    "        ]\n",
    "        #batch, num_experts, hidden_dim\n",
    "        expert_out = torch.cat(expert_out_list, dim=1)\n",
    "        #batch, 1, num_experts\n",
    "        expert_weights.unsqueeze(dim=1)\n",
    "        out = expert_weights @ expert_out\n",
    "        \n",
    "        return out.squeeze()"
   ]
  },
  {
   "cell_type": "code",
   "execution_count": 21,
   "metadata": {},
   "outputs": [
    {
     "name": "stdout",
     "output_type": "stream",
     "text": [
      "tensor([[[-0.0152,  0.0000, -0.0787,  0.0000],\n",
      "         [ 0.1217,  0.0000, -0.2513,  0.0000]],\n",
      "\n",
      "        [[ 0.0000,  0.0000,  0.0000,  0.0128],\n",
      "         [ 0.0000,  0.0000,  0.0000, -0.1028]]], grad_fn=<SqueezeBackward0>)\n"
     ]
    }
   ],
   "source": [
    "def test_basic_moe():\n",
    "    x = torch.rand(2, 4)\n",
    "\n",
    "    basic_moe = BasicMoE(2, 4, 0.5)\n",
    "    out = basic_moe(x)\n",
    "    print(out)\n",
    "test_basic_moe()"
   ]
  },
  {
   "cell_type": "code",
   "execution_count": null,
   "metadata": {},
   "outputs": [],
   "source": []
  },
  {
   "cell_type": "code",
   "execution_count": null,
   "metadata": {},
   "outputs": [],
   "source": []
  }
 ],
 "metadata": {
  "kernelspec": {
   "display_name": "base",
   "language": "python",
   "name": "python3"
  },
  "language_info": {
   "codemirror_mode": {
    "name": "ipython",
    "version": 3
   },
   "file_extension": ".py",
   "mimetype": "text/x-python",
   "name": "python",
   "nbconvert_exporter": "python",
   "pygments_lexer": "ipython3",
   "version": "3.12.4"
  }
 },
 "nbformat": 4,
 "nbformat_minor": 2
}
