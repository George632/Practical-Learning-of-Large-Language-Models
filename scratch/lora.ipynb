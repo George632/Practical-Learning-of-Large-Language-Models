{
 "cells": [
  {
   "cell_type": "code",
   "execution_count": 9,
   "metadata": {},
   "outputs": [],
   "source": [
    "#LoRA 实现"
   ]
  },
  {
   "cell_type": "code",
   "execution_count": null,
   "metadata": {},
   "outputs": [],
   "source": [
    "import torch\n",
    "import torch.nn as nn\n",
    "import torch.nn.functional as F\n",
    "\n",
    "class LoraLinear(nn.Module):\n",
    "    def __init__(self, in_features, out_features, merge, rank=16, lora_alpha=16, dropout_rate=0.5):\n",
    "        self.in_features = in_features\n",
    "        self.out_features = out_features\n",
    "        self.merge = merge\n",
    "        self.rank = rank\n",
    "        self.scale = lora_alpha / rank\n",
    "        \n",
    "        self.linear = nn.Linear(in_features, out_features)\n",
    "        \n",
    "        if rank > 0:\n",
    "            self.lora_a = nn.Parameter(torch.zeros(out_features, rank))\n",
    "            self.lora_b = nn.Parameter(torch.zeros(rank, in_features))\n",
    "            self.scale = lora_alpha / self.rank\n",
    "            #冻结\n",
    "            self.linear.weight.requires_grad = False\n",
    "        \n",
    "        if dropout_rate > 0:\n",
    "            self.dropout = nn.Dropout(dropout_rate)\n",
    "        else:\n",
    "            self.dropout = nn.Identity() #什么也不做\n",
    "        \n",
    "        self.initial_weights()\n",
    "        \n",
    "    def initial_weights(self):\n",
    "        nn.init.kaiming_uniform_(self.lora_a, torch.sqrt(5))\n",
    "        nn.init.zeros(self.lora_b)\n",
    "    \n",
    "    def forward(self, X):\n",
    "        if self.rank > 0 and self.merge:\n",
    "            output = F.linear(X, self.linear.weight + self.lora_a @ self.lora_b , self.linear.bias)\n",
    "            output = self.dropout(output)\n",
    "        else:\n",
    "            output = self.linear(X)\n",
    "        return output\n",
    "            \n"
   ]
  },
  {
   "cell_type": "code",
   "execution_count": null,
   "metadata": {},
   "outputs": [],
   "source": []
  }
 ],
 "metadata": {
  "kernelspec": {
   "display_name": "base",
   "language": "python",
   "name": "python3"
  },
  "language_info": {
   "codemirror_mode": {
    "name": "ipython",
    "version": 3
   },
   "file_extension": ".py",
   "mimetype": "text/x-python",
   "name": "python",
   "nbconvert_exporter": "python",
   "pygments_lexer": "ipython3",
   "version": "3.12.4"
  }
 },
 "nbformat": 4,
 "nbformat_minor": 2
}
