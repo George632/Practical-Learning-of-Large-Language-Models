{
 "cells": [
  {
   "cell_type": "markdown",
   "metadata": {},
   "source": [
    "# 实现一个 GQA"
   ]
  },
  {
   "cell_type": "code",
   "execution_count": 1,
   "metadata": {},
   "outputs": [],
   "source": [
    "import torch\n",
    "import torch.nn as nn\n",
    "import math"
   ]
  },
  {
   "cell_type": "code",
   "execution_count": null,
   "metadata": {},
   "outputs": [
    {
     "data": {
      "text/plain": [
       "torch.Size([3, 2, 128])"
      ]
     },
     "execution_count": 20,
     "metadata": {},
     "output_type": "execute_result"
    }
   ],
   "source": [
    "class GroupQueryAttention(nn.Module):\n",
    "    def __init__(self, hidden_dim: int, head_nums: int, key_value_nums: int, block_size: int = 512 ,dropout=0.1):\n",
    "        super().__init__()\n",
    "\n",
    "        assert hidden_dim % head_nums == 0\n",
    "        assert head_nums % key_value_nums == 0\n",
    "        #初始化参数\n",
    "        self.head_dim = hidden_dim // head_nums\n",
    "        self.head_nums = head_nums\n",
    "        self.key_value_nums = key_value_nums\n",
    "        #qkv矩阵\n",
    "        self.query = nn.Linear(hidden_dim, hidden_dim)\n",
    "        self.key = nn.Linear(hidden_dim, key_value_nums * self.head_dim)  # 组数\n",
    "        self.value = nn.Linear(hidden_dim, key_value_nums * self.head_dim)\n",
    "        \n",
    "        self.att_dropout = nn.Dropout(dropout)\n",
    "        #注册 buffer\n",
    "        self.register_buffer(\n",
    "            'attention_mask',\n",
    "            torch.tril(torch.ones(block_size, block_size))\n",
    "        )\n",
    "        #投射层\n",
    "        self.proj = nn.Linear(hidden_dim, hidden_dim)\n",
    "        \n",
    "    def forward(self, X, att_mask=None):\n",
    "\n",
    "        batch, seq_len, hidden_dim = X.size()\n",
    "        #计算qkv的值\n",
    "        q = self.query(X)\n",
    "        k = self.key(X)\n",
    "        v = self.value(X)\n",
    "\n",
    "        #分头\n",
    "        q_state = q.view(batch, seq_len, self.head_nums, self.head_dim).transpose(1, 2)\n",
    "        k_state = k.view(batch, seq_len, self.key_value_nums, self.head_dim).transpose(1, 2)\n",
    "        v_state = v.view(batch, seq_len, self.key_value_nums, self.head_dim).transpose(1, 2)\n",
    "\n",
    "        # kv还要复制一次, repeat 广播\n",
    "        k_state = k_state.repeat_interleave(self.head_nums // self.key_value_nums, dim=1)\n",
    "        v_state = v_state.repeat_interleave(self.head_nums // self.key_value_nums, dim=1)\n",
    "\n",
    "        attention_weight = q_state @ k_state.transpose(-1, -2) / math.sqrt(self.head_dim)\n",
    "        #加mask\n",
    "        attention_weight = attention_weight.masked_fill(\n",
    "            self.attention_mask[:seq_len, :seq_len] == 0,\n",
    "            float('-inf')\n",
    "        )\n",
    "        #softmax\n",
    "        attention_weight = torch.softmax(attention_weight, dim=-1) \n",
    "        attention_weight = self.att_dropout(attention_weight) \n",
    "\n",
    "        output = attention_weight @ v_state\n",
    "        output = output.transpose(1,2).contiguous().view(batch, seq_len, self.head_nums * self.head_dim)\n",
    "\n",
    "        final_output = self.proj(output)\n",
    "\n",
    "        return final_output\n",
    "\n",
    "\n",
    "x = torch.rand(3, 2, 128)\n",
    "net = GroupQueryAttention(128, 8, 4)\n",
    "net(x).shape\n",
    "\n",
    "\n"
   ]
  }
 ],
 "metadata": {
  "kernelspec": {
   "display_name": "base",
   "language": "python",
   "name": "python3"
  },
  "language_info": {
   "codemirror_mode": {
    "name": "ipython",
    "version": 3
   },
   "file_extension": ".py",
   "mimetype": "text/x-python",
   "name": "python",
   "nbconvert_exporter": "python",
   "pygments_lexer": "ipython3",
   "version": "3.12.4"
  }
 },
 "nbformat": 4,
 "nbformat_minor": 2
}
