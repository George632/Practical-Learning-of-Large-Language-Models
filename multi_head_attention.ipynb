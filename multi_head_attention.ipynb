{
 "cells": [
  {
   "cell_type": "code",
   "execution_count": 2,
   "metadata": {},
   "outputs": [],
   "source": [
    "import torch\n",
    "import torch.nn as nn\n",
    "import math"
   ]
  },
  {
   "cell_type": "code",
   "execution_count": 31,
   "metadata": {},
   "outputs": [
    {
     "data": {
      "text/plain": [
       "torch.Size([3, 2, 128])"
      ]
     },
     "execution_count": 31,
     "metadata": {},
     "output_type": "execute_result"
    }
   ],
   "source": [
    "class MultiHeadAttention(nn.Module):\n",
    "    def __init__(self, hidden_dim, head_num, att_dropout=0.1):\n",
    "        super().__init__()\n",
    "        self.hidden_dim = hidden_dim\n",
    "        self.head_num = head_num\n",
    "        self.head_dim = hidden_dim // head_num\n",
    "\n",
    "        self.query = nn.Linear(hidden_dim, hidden_dim)\n",
    "        self.key = nn.Linear(hidden_dim, hidden_dim)\n",
    "        self.value = nn.Linear(hidden_dim, hidden_dim)\n",
    "\n",
    "        self.att_dropout = nn.Dropout(att_dropout)\n",
    "\n",
    "        self.proj = nn.Linear(hidden_dim, hidden_dim)\n",
    "\n",
    "    def forward(self, X, att_mask=None):\n",
    "        batch, seq_len, _ = X.size()\n",
    "\n",
    "        Q = self.query(X)\n",
    "        K = self.key(X)\n",
    "        V = self.value(X)\n",
    "\n",
    "        q_state = Q.view(batch, seq_len, self.head_num, self.head_dim).transpose(1,2)\n",
    "        k_state = K.view(batch, seq_len, self.head_num, self.head_dim).transpose(1,2)\n",
    "        v_state = V.view(batch, seq_len, self.head_num, self.head_dim).transpose(1,2)\n",
    "\n",
    "        att_weight = q_state @ k_state.transpose(-1,-2) / math.sqrt(self.head_dim)\n",
    "\n",
    "        if att_mask is not None:\n",
    "            att_weight = att_weight.masked_fill(\n",
    "                att_mask == 0,\n",
    "                float('-inf')\n",
    "            )\n",
    "        # shape: [batch, head_num, seq_len, seq_len]\n",
    "        \n",
    "        att_weight = torch.softmax(att_weight, dim=-1)\n",
    "        att_weight = self.att_dropout(att_weight)\n",
    "\n",
    "        output_mid = att_weight @ v_state # batch, head_num, seq_len, head_dim #\n",
    "        output_mid = output_mid.transpose(1,2).contiguous()\n",
    "\n",
    "        output = output_mid.view(batch, seq_len, -1)\n",
    "\n",
    "        return output\n",
    "\n",
    "\n",
    "attention_mask = (\n",
    "    torch.tensor(\n",
    "        [\n",
    "            [0, 1],\n",
    "            [0, 0],\n",
    "            [1, 0],\n",
    "        ]\n",
    "    )\n",
    "    .unsqueeze(1)\n",
    "    .unsqueeze(2)\n",
    "    .expand(3, 8, 2, 2)\n",
    ")\n",
    "\n",
    "x = torch.rand(3, 2, 128)\n",
    "net = MultiHeadAttention(128, 8)\n",
    "net(x, attention_mask).shape\n"
   ]
  },
  {
   "cell_type": "code",
   "execution_count": null,
   "metadata": {},
   "outputs": [],
   "source": []
  }
 ],
 "metadata": {
  "kernelspec": {
   "display_name": "base",
   "language": "python",
   "name": "python3"
  },
  "language_info": {
   "codemirror_mode": {
    "name": "ipython",
    "version": 3
   },
   "file_extension": ".py",
   "mimetype": "text/x-python",
   "name": "python",
   "nbconvert_exporter": "python",
   "pygments_lexer": "ipython3",
   "version": "3.12.4"
  }
 },
 "nbformat": 4,
 "nbformat_minor": 2
}
